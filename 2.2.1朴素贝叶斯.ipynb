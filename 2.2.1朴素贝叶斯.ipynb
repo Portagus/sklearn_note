{
 "cells": [
  {
   "cell_type": "raw",
   "metadata": {},
   "source": [
    "朴素贝叶斯 : 朴素 :条件独立\n"
   ]
  },
  {
   "cell_type": "code",
   "execution_count": 22,
   "metadata": {},
   "outputs": [],
   "source": [
    "from sklearn.datasets import fetch_20newsgroups\n",
    "from sklearn.feature_extraction.text import TfidfVectorizer\n",
    "from sklearn.naive_bayes import MultinomialNB\n",
    "import pandas as pd\n",
    "from sklearn.model_selection import train_test_split\n",
    "from sklearn.metrics import classification_report"
   ]
  },
  {
   "cell_type": "code",
   "execution_count": 23,
   "metadata": {},
   "outputs": [],
   "source": [
    "def naviebayes():\n",
    "    \"\"\"\n",
    "    朴素贝叶斯\n",
    "    \"\"\"\n",
    "    news = fetch_20newsgroups(subset='all')\n",
    "    # 进行数据分割\n",
    "    f_train, f_test, t_train, t_test = train_test_split(news.data, news.target, test_size=0.25)\n",
    "    # 对数据集进行特征抽取\n",
    "    tf = TfidfVectorizer()\n",
    "    # 以训练集当中的词的列表进行每篇文章的统计\n",
    "    f_train = tf.fit_transform(f_train)\n",
    "    f_test = tf.transform(f_test)\n",
    "    \n",
    "    # 进行bayes\n",
    "    mlt = MultinomialNB(alpha=1.0)\n",
    "    \n",
    "    mlt.fit(f_train,t_train)\n",
    "    y_predict = mlt.predict(f_test)\n",
    "    \n",
    "    # 得出准确率\n",
    "    print(\"accur rate :\", mlt.score(f_test, t_test))\n",
    "    # 得出精确率与召回率\n",
    "    print(\"精确率与召回率:\", classification_report(t_test, y_predict, target_names=news.target_names))\n",
    "    return None"
   ]
  },
  {
   "cell_type": "code",
   "execution_count": 24,
   "metadata": {
    "scrolled": true
   },
   "outputs": [
    {
     "name": "stdout",
     "output_type": "stream",
     "text": [
      "accur rate : 0.8461375212224108\n",
      "精确率与召回率:                           precision    recall  f1-score   support\n",
      "\n",
      "             alt.atheism       0.90      0.75      0.82       194\n",
      "           comp.graphics       0.85      0.76      0.80       238\n",
      " comp.os.ms-windows.misc       0.82      0.84      0.83       244\n",
      "comp.sys.ibm.pc.hardware       0.77      0.86      0.81       247\n",
      "   comp.sys.mac.hardware       0.95      0.83      0.89       255\n",
      "          comp.windows.x       0.92      0.86      0.89       239\n",
      "            misc.forsale       0.95      0.62      0.75       267\n",
      "               rec.autos       0.85      0.92      0.88       237\n",
      "         rec.motorcycles       0.92      0.96      0.94       245\n",
      "      rec.sport.baseball       0.95      0.95      0.95       237\n",
      "        rec.sport.hockey       0.85      0.98      0.91       227\n",
      "               sci.crypt       0.79      0.97      0.87       269\n",
      "         sci.electronics       0.87      0.83      0.85       230\n",
      "                 sci.med       0.96      0.85      0.91       255\n",
      "               sci.space       0.90      0.92      0.91       261\n",
      "  soc.religion.christian       0.55      0.98      0.71       240\n",
      "      talk.politics.guns       0.74      0.98      0.84       222\n",
      "   talk.politics.mideast       0.96      0.97      0.96       259\n",
      "      talk.politics.misc       0.96      0.66      0.79       190\n",
      "      talk.religion.misc       0.95      0.13      0.24       156\n",
      "\n",
      "                accuracy                           0.85      4712\n",
      "               macro avg       0.87      0.83      0.83      4712\n",
      "            weighted avg       0.87      0.85      0.84      4712\n",
      "\n"
     ]
    }
   ],
   "source": [
    "if __name__ == \"__main__\":\n",
    "    naviebayes()"
   ]
  },
  {
   "cell_type": "raw",
   "metadata": {},
   "source": [
    "优缺点 : \n",
    "    对于训练集的要求高, 不需要调参(也没有超参数)\n",
    "    对于缺失数据不敏感, 常用于文本分类\n",
    "    准确度蛮高的 , 蛮快的\n",
    "    \n",
    "    但是, 贝叶斯的基于独立假设, 所以样本的关联性不好"
   ]
  }
 ],
 "metadata": {
  "kernelspec": {
   "display_name": "Python 3",
   "language": "python",
   "name": "python3"
  },
  "language_info": {
   "codemirror_mode": {
    "name": "ipython",
    "version": 3
   },
   "file_extension": ".py",
   "mimetype": "text/x-python",
   "name": "python",
   "nbconvert_exporter": "python",
   "pygments_lexer": "ipython3",
   "version": "3.7.4"
  }
 },
 "nbformat": 4,
 "nbformat_minor": 2
}
