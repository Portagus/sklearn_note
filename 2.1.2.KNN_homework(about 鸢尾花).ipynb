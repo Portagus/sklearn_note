{
 "cells": [
  {
   "cell_type": "code",
   "execution_count": 143,
   "metadata": {},
   "outputs": [],
   "source": [
    "import pandas as pd\n",
    "import sklearn\n",
    "from sklearn.datasets import load_iris\n",
    "from sklearn.model_selection import train_test_split as tts\n",
    "from sklearn.neighbors import KNeighborsClassifier \n",
    "from sklearn.preprocessing import StandardScaler"
   ]
  },
  {
   "cell_type": "code",
   "execution_count": 144,
   "metadata": {},
   "outputs": [],
   "source": [
    "def knn_is():\n",
    "    # 读取数据\n",
    "    iris = load_iris()\n",
    "    \n",
    "    data = iris.data\n",
    "    y = iris.target\n",
    "    train_f, test_f, train_t, test_t = tts(data, y, test_size=0.25)\n",
    "    \n",
    "    # 特征工程\n",
    "    std = StandardScaler()\n",
    "    train_f = std.fit_transform(train_f)\n",
    "    test_f = std.transform(test_f)\n",
    "    \n",
    "    knn = KNeighborsClassifier(n_neighbors=6) # 创建一个KNN算法实例，n_neighbors默认为5,测试发现6更好\n",
    "    knn.fit(train_f, train_t) # 将测试集送入算法\n",
    "    y_predict = knn.predict(test_f) # 获取预测结果\n",
    "    # print(\"预测的目标签到位置:\", y_predict)\n",
    "    \n",
    "    print(\"准确率 : \", knn.score(test_f, test_t))\n",
    "    \n",
    "    return None"
   ]
  },
  {
   "cell_type": "code",
   "execution_count": 145,
   "metadata": {},
   "outputs": [
    {
     "name": "stdout",
     "output_type": "stream",
     "text": [
      "准确率 :  0.9210526315789473\n"
     ]
    }
   ],
   "source": [
    "if __name__ == \"__main__\":\n",
    "    knn_is()"
   ]
  },
  {
   "cell_type": "code",
   "execution_count": null,
   "metadata": {},
   "outputs": [],
   "source": []
  },
  {
   "cell_type": "code",
   "execution_count": null,
   "metadata": {},
   "outputs": [],
   "source": []
  },
  {
   "cell_type": "code",
   "execution_count": null,
   "metadata": {},
   "outputs": [],
   "source": []
  },
  {
   "cell_type": "code",
   "execution_count": null,
   "metadata": {},
   "outputs": [],
   "source": []
  },
  {
   "cell_type": "code",
   "execution_count": null,
   "metadata": {},
   "outputs": [],
   "source": []
  },
  {
   "cell_type": "code",
   "execution_count": null,
   "metadata": {},
   "outputs": [],
   "source": []
  },
  {
   "cell_type": "code",
   "execution_count": null,
   "metadata": {},
   "outputs": [],
   "source": []
  }
 ],
 "metadata": {
  "kernelspec": {
   "display_name": "Python 3",
   "language": "python",
   "name": "python3"
  },
  "language_info": {
   "codemirror_mode": {
    "name": "ipython",
    "version": 3
   },
   "file_extension": ".py",
   "mimetype": "text/x-python",
   "name": "python",
   "nbconvert_exporter": "python",
   "pygments_lexer": "ipython3",
   "version": "3.7.4"
  }
 },
 "nbformat": 4,
 "nbformat_minor": 2
}
