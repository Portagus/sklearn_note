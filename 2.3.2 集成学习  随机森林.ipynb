{
 "cells": [
  {
   "cell_type": "raw",
   "metadata": {},
   "source": [
    "sklearn.ensemble.RamdomForestClassifier()\n",
    "    param : \n",
    "            n_estimators : 生成多少个随机森林(一般120,200,300,500,800,1200)\n",
    "            # criterion : 一般是基尼系数\n",
    "            max_depth : max深度\n",
    "            # bootstrap : 默认不管就行\n",
    "            # random_state: 不管\n",
    "            max_feature=\"auto\" :每棵树的最大特征数量, auto是取平方\n",
    "            "
   ]
  },
  {
   "cell_type": "code",
   "execution_count": 2,
   "metadata": {},
   "outputs": [],
   "source": [
    "import pandas as pd\n",
    "from sklearn.ensemble import RandomForestClassifier\n",
    "from sklearn.feature_extraction import DictVectorizer\n",
    "from sklearn.model_selection import train_test_split ,GridSearchCV\n",
    "from sklearn.tree import DecisionTreeClassifier, export_graphviz"
   ]
  },
  {
   "cell_type": "code",
   "execution_count": 5,
   "metadata": {},
   "outputs": [],
   "source": [
    "def decision():\n",
    "    \"\"\"\n",
    "    决策树\n",
    "    \"\"\"\n",
    "    # 获取数据\n",
    "    titan = pd.read_csv(\"http://biostat.mc.vanderbilt.edu/wiki/pub/Main/DataSets/titanic.txt\")\n",
    "    \n",
    "    # 处理数据, 找出特征值和目标值\n",
    "    x = titan[['pclass', 'age','sex']]\n",
    "    y = titan['survived']\n",
    "    \n",
    "    # 缺失值处理\n",
    "    x['age'].fillna(x['age'].mean(), inplace=True)\n",
    "    \n",
    "    x_train,x_test, y_train, y_test = train_test_split(x, y, test_size=0.25)\n",
    "    \n",
    "    # 进行处理(特征工程) 当特征是类别->one-hot编码\n",
    "    dict = DictVectorizer(sparse=False)\n",
    "    # 转换成字典, param : 一行转为一个字典\n",
    "    x_train = dict.fit_transform(x_train.to_dict(orient='records'))\n",
    "    \n",
    "    x_test = dict.transform(x_test.to_dict(orient='records'))\n",
    "    \n",
    "    \n",
    "    # 随机森林\n",
    "    rf = RandomForestClassifier()\n",
    "    \n",
    "    param = {\"n_estimators\" : [120, 200, 300,500,800,1200], \"max_depth\": [5,8,15,25,30]}\n",
    "    \n",
    "    # 交叉验证\n",
    "    gc = GridSearchCV(rf, param_grid=param, cv=2)\n",
    "    gc.fit(x_train, y_train)\n",
    "    print(\"准确率 :\", gc.score(x_test, y_test))\n",
    "    \n",
    "    print(\"查看选择的模型\", gc.best_params_)\n",
    "    return None"
   ]
  },
  {
   "cell_type": "code",
   "execution_count": 6,
   "metadata": {},
   "outputs": [
    {
     "name": "stderr",
     "output_type": "stream",
     "text": [
      "C:\\ProgramData\\Anaconda3\\lib\\site-packages\\pandas\\core\\series.py:4523: SettingWithCopyWarning: \n",
      "A value is trying to be set on a copy of a slice from a DataFrame\n",
      "\n",
      "See the caveats in the documentation: https://pandas.pydata.org/pandas-docs/stable/user_guide/indexing.html#returning-a-view-versus-a-copy\n",
      "  downcast=downcast,\n"
     ]
    },
    {
     "name": "stdout",
     "output_type": "stream",
     "text": [
      "准确率 : 0.8328267477203647\n",
      "查看选择的模型 {'max_depth': 5, 'n_estimators': 500}\n"
     ]
    }
   ],
   "source": [
    "if __name__ == \"__main__\":\n",
    "    decision()"
   ]
  },
  {
   "cell_type": "raw",
   "metadata": {},
   "source": [
    "随机森林 几乎没有缺点, 唯一缺点是超参数较多"
   ]
  }
 ],
 "metadata": {
  "kernelspec": {
   "display_name": "Python 3",
   "language": "python",
   "name": "python3"
  },
  "language_info": {
   "codemirror_mode": {
    "name": "ipython",
    "version": 3
   },
   "file_extension": ".py",
   "mimetype": "text/x-python",
   "name": "python",
   "nbconvert_exporter": "python",
   "pygments_lexer": "ipython3",
   "version": "3.7.4"
  }
 },
 "nbformat": 4,
 "nbformat_minor": 2
}
