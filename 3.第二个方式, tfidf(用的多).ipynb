{
 "cells": [
  {
   "cell_type": "markdown",
   "metadata": {},
   "source": [
    "tf : term frequnency : 词的频率  出现的次数\n",
    "idf : 逆文档频率, inverse document frequency \n",
    "    公式 : log(总文档数量 / 该词出现的文档数量)\n",
    "\n",
    "tf * idf = 重要性"
   ]
  },
  {
   "cell_type": "code",
   "execution_count": 10,
   "metadata": {},
   "outputs": [],
   "source": [
    "from sklearn.feature_extraction.text import TfidfVectorizer\n",
    "import jieba\n",
    "import numpy as np"
   ]
  },
  {
   "cell_type": "code",
   "execution_count": 11,
   "metadata": {},
   "outputs": [],
   "source": [
    "def cutword():\n",
    "    con1 = jieba.cut(\"今天很残酷, 明天更残酷, 后天很美好, 但是大部分人死在了明天晚上, 所以每个人都不要放弃\")\n",
    "    con2 = jieba.cut(\"我们看到的是从很远的星系传来的光, 他们是几百万年前发出的, 这样当我们看宇宙时, 我们只是在看他的过去\")\n",
    "    con3 = jieba.cut(\"如果只是运用一种方式来了解某个事物, 那就不会真正了解他, 了解事物的真正含义取决于将其与我们所了解的事物相连 \")\n",
    "    \n",
    "    # change to list\n",
    "    content1 = list(con1)\n",
    "    content2 = list(con2)\n",
    "    content3 = list(con3)\n",
    "    # 把list change to 字符串\n",
    "    c1 = ' '.join(content1)\n",
    "    c2 = ' '.join(content2)\n",
    "    c3 = ' '.join(content3)\n",
    "    \n",
    "    return c1, c2, c3"
   ]
  },
  {
   "cell_type": "code",
   "execution_count": 13,
   "metadata": {},
   "outputs": [],
   "source": [
    "def tfidfvec():\n",
    "    \"\"\"\n",
    "    中文特征值化de 第二个方法\n",
    "    return :None\n",
    "    \"\"\"\n",
    "    c1 , c2, c3 = cutword()\n",
    "    print(c1, c2,c3)\n",
    "    tf = TfidfVectorizer()\n",
    "    data = tf.fit_transform([c1, c2, c3])\n",
    "    print(\"===============================\")\n",
    "    print(tf.get_feature_names())\n",
    "    print(data.toarray())\n",
    "    return None\n"
   ]
  },
  {
   "cell_type": "code",
   "execution_count": 14,
   "metadata": {},
   "outputs": [
    {
     "name": "stdout",
     "output_type": "stream",
     "text": [
      "今天 很 残酷 ,   明天 更 残酷 ,   后天 很 美好 ,   但是 大部分 人死 在 了 明天 晚上 ,   所以 每个 人 都 不要 放弃 我们 看到 的 是从 很远 的 星系 传来 的 光 ,   他们 是 几百万年 前 发出 的 ,   这样 当 我们 看 宇宙 时 ,   我们 只是 在 看 他 的 过去 如果 只是 运用 一种 方式 来 了解 某个 事物 ,   那 就 不会 真正 了解 他 ,   了解 事物 的 真正 含义 取决于 将 其 与 我们 所 了解 的 事物 相连  \n",
      "===============================\n",
      "['一种', '不会', '不要', '了解', '事物', '人死', '今天', '他们', '传来', '但是', '几百万年', '发出', '取决于', '只是', '后天', '含义', '大部分', '如果', '宇宙', '很远', '我们', '所以', '放弃', '方式', '明天', '星系', '是从', '晚上', '某个', '残酷', '每个', '相连', '看到', '真正', '美好', '过去', '运用', '这样']\n",
      "[[0.         0.         0.22941573 0.         0.         0.22941573\n",
      "  0.22941573 0.         0.         0.22941573 0.         0.\n",
      "  0.         0.         0.22941573 0.         0.22941573 0.\n",
      "  0.         0.         0.         0.22941573 0.22941573 0.\n",
      "  0.45883147 0.         0.         0.22941573 0.         0.45883147\n",
      "  0.22941573 0.         0.         0.         0.22941573 0.\n",
      "  0.         0.        ]\n",
      " [0.         0.         0.         0.         0.         0.\n",
      "  0.         0.24409132 0.24409132 0.         0.24409132 0.24409132\n",
      "  0.         0.18563774 0.         0.         0.         0.\n",
      "  0.24409132 0.24409132 0.55691322 0.         0.         0.\n",
      "  0.         0.24409132 0.24409132 0.         0.         0.\n",
      "  0.         0.         0.24409132 0.         0.         0.24409132\n",
      "  0.         0.24409132]\n",
      " [0.15980722 0.15980722 0.         0.6392289  0.47942167 0.\n",
      "  0.         0.         0.         0.         0.         0.\n",
      "  0.15980722 0.12153751 0.         0.15980722 0.         0.15980722\n",
      "  0.         0.         0.12153751 0.         0.         0.15980722\n",
      "  0.         0.         0.         0.         0.15980722 0.\n",
      "  0.         0.15980722 0.         0.31961445 0.         0.\n",
      "  0.15980722 0.        ]]\n"
     ]
    }
   ],
   "source": [
    "if __name__ == \"__main__\":\n",
    "    tfidfvec()"
   ]
  },
  {
   "cell_type": "code",
   "execution_count": null,
   "metadata": {},
   "outputs": [],
   "source": []
  }
 ],
 "metadata": {
  "kernelspec": {
   "display_name": "Python 3",
   "language": "python",
   "name": "python3"
  },
  "language_info": {
   "codemirror_mode": {
    "name": "ipython",
    "version": 3
   },
   "file_extension": ".py",
   "mimetype": "text/x-python",
   "name": "python",
   "nbconvert_exporter": "python",
   "pygments_lexer": "ipython3",
   "version": "3.7.4"
  }
 },
 "nbformat": 4,
 "nbformat_minor": 2
}
