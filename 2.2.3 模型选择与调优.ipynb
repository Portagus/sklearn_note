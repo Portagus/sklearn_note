{
 "cells": [
  {
   "cell_type": "raw",
   "metadata": {},
   "source": [
    "交叉验证与网格搜索"
   ]
  },
  {
   "cell_type": "raw",
   "metadata": {},
   "source": [
    "训练集, 验证集, 测试集\n",
    "\n",
    "交叉验证 : 所有数据分成n等份, 每次选取其中的一个(1/n)作为验证, 这样所有的数据都做过验证集, 最后求mean, 得到平均的accur\n",
    "\n",
    "网格搜索 : 依次遍历所有的超参数的选择进行交叉验证 , 取最大的\n",
    "\n",
    "sklearn.model_seletion.GridSearchCV(cross validation)\n",
    "    param : \n",
    "            estimator : 估计器\n",
    "            param_grid : 估计器的参数\n",
    "            cv :指定几折交叉\n",
    "            fit : 数据训练数据\n",
    "            score : 准确率\n",
    "    return : \n",
    "            最好的结果\n",
    "            最好的参数模型\n",
    "            每次验证后的结果"
   ]
  },
  {
   "cell_type": "code",
   "execution_count": 2,
   "metadata": {},
   "outputs": [],
   "source": [
    "import pandas as pd\n",
    "import numpy as np\n",
    "from sklearn.model_selection import train_test_split, GridSearchCV\n",
    "from sklearn.neighbors import KNeighborsClassifier\n",
    "from sklearn.preprocessing import StandardScaler"
   ]
  },
  {
   "cell_type": "code",
   "execution_count": 15,
   "metadata": {},
   "outputs": [],
   "source": [
    "def knncls():\n",
    "    \"\"\"\n",
    "    KNN预测用户标签\n",
    "    \"\"\"\n",
    "    # 读取数据\n",
    "    data = pd.read_csv(\"D:/Data/facebookdata/train.csv\")\n",
    "    data = data.query(\"x > 1.0 & x < 1.25 & y>2.5 & y < 2.75\") \n",
    "    time_value = pd.to_datetime(data['time'], unit='s')\n",
    "    time_value = pd.DatetimeIndex(time_value)\n",
    "    \n",
    "    data.loc[:,'day'] = time_value.day\n",
    "    data.loc[:,'hour'] = time_value.hour\n",
    "    \n",
    "    data = data.drop(['time'],axis=1)\n",
    "    \n",
    "    place_count = data.groupby('place_id').count()\n",
    "    tf = place_count[place_count.row_id>3].reset_index()\n",
    "    data = data[data['place_id'].isin(tf.place_id)]\n",
    "    y = data['place_id']\n",
    "    x = data.drop(['place_id'], axis=1)\n",
    "    x = data.drop(['row_id'], axis=1)\n",
    "    \n",
    "    x_train,x_test, y_train, y_test = train_test_split(x, y, test_size=0.25)\n",
    "    \n",
    "    \n",
    "    # 特征工程(标准化)\n",
    "    std = StandardScaler()\n",
    "    x_train = std.fit_transform(x_train)\n",
    "    x_test =  std.fit_transform(x_test)\n",
    "    \n",
    "    # 进行算法\n",
    "    knn = KNeighborsClassifier()\n",
    "    \n",
    "    # 构造一些参数的值 (字典形式)\n",
    "    param = {\"n_neighbors\" :[3,5,10]}\n",
    "    # 网格搜索\n",
    "    gc = GridSearchCV(knn, param_grid=param, cv=4)\n",
    "    gc.fit(x_train, y_train)\n",
    "    \n",
    "    # 预测准确率\n",
    "    print(\"gc在测试集的score :\", gc.score(x_test, y_test))\n",
    "    print(\"在交叉验证中最好的结果 :\", gc.best_score_)\n",
    "    print(\"在交叉验证中最好的模型 :\", gc.best_estimator_)\n",
    "    print(\"每次交叉验证的结果 : \", gc.cv_results_)\n",
    "\n",
    "    return None"
   ]
  },
  {
   "cell_type": "code",
   "execution_count": 16,
   "metadata": {
    "scrolled": false
   },
   "outputs": [
    {
     "name": "stderr",
     "output_type": "stream",
     "text": [
      "C:\\ProgramData\\Anaconda3\\lib\\site-packages\\pandas\\core\\indexing.py:1596: SettingWithCopyWarning: \n",
      "A value is trying to be set on a copy of a slice from a DataFrame.\n",
      "Try using .loc[row_indexer,col_indexer] = value instead\n",
      "\n",
      "See the caveats in the documentation: https://pandas.pydata.org/pandas-docs/stable/user_guide/indexing.html#returning-a-view-versus-a-copy\n",
      "  self.obj[key] = _infer_fill_value(value)\n",
      "C:\\ProgramData\\Anaconda3\\lib\\site-packages\\pandas\\core\\indexing.py:1745: SettingWithCopyWarning: \n",
      "A value is trying to be set on a copy of a slice from a DataFrame.\n",
      "Try using .loc[row_indexer,col_indexer] = value instead\n",
      "\n",
      "See the caveats in the documentation: https://pandas.pydata.org/pandas-docs/stable/user_guide/indexing.html#returning-a-view-versus-a-copy\n",
      "  isetter(ilocs[0], value)\n",
      "C:\\ProgramData\\Anaconda3\\lib\\site-packages\\sklearn\\model_selection\\_split.py:672: UserWarning: The least populated class in y has only 1 members, which is less than n_splits=4.\n",
      "  % (min_groups, self.n_splits)), UserWarning)\n"
     ]
    },
    {
     "name": "stdout",
     "output_type": "stream",
     "text": [
      "gc在测试集的score : 0.7108747044917257\n",
      "在交叉验证中最好的结果 : 0.7082282471626734\n",
      "在交叉验证中最好的模型 : KNeighborsClassifier(n_neighbors=3)\n",
      "每次交叉验证的结果 :  {'mean_fit_time': array([0.01471317, 0.01471478, 0.01472098]), 'std_fit_time': array([0.0004337 , 0.00043489, 0.00043838]), 'mean_score_time': array([0.11044413, 0.11818045, 0.13337219]), 'std_score_time': array([0.00191919, 0.00110924, 0.00128352]), 'param_n_neighbors': masked_array(data=[3, 5, 10],\n",
      "             mask=[False, False, False],\n",
      "       fill_value='?',\n",
      "            dtype=object), 'params': [{'n_neighbors': 3}, {'n_neighbors': 5}, {'n_neighbors': 10}], 'split0_test_score': array([0.70838588, 0.70491803, 0.68411097]), 'split1_test_score': array([0.703657  , 0.70807062, 0.69104666]), 'split2_test_score': array([0.71469105, 0.7074401 , 0.68820933]), 'split3_test_score': array([0.70617907, 0.7112232 , 0.68757881]), 'mean_test_score': array([0.70822825, 0.70791299, 0.68773644]), 'std_test_score': array([0.00408926, 0.00224587, 0.00246729]), 'rank_test_score': array([1, 2, 3])}\n"
     ]
    }
   ],
   "source": [
    "if __name__ == \"__main__\":\n",
    "    knncls()"
   ]
  },
  {
   "cell_type": "code",
   "execution_count": null,
   "metadata": {},
   "outputs": [],
   "source": []
  }
 ],
 "metadata": {
  "kernelspec": {
   "display_name": "Python 3",
   "language": "python",
   "name": "python3"
  },
  "language_info": {
   "codemirror_mode": {
    "name": "ipython",
    "version": 3
   },
   "file_extension": ".py",
   "mimetype": "text/x-python",
   "name": "python",
   "nbconvert_exporter": "python",
   "pygments_lexer": "ipython3",
   "version": "3.7.4"
  }
 },
 "nbformat": 4,
 "nbformat_minor": 2
}
