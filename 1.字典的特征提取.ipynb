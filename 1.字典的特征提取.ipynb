{
 "cells": [
  {
   "cell_type": "code",
   "execution_count": 16,
   "metadata": {},
   "outputs": [],
   "source": [
    "from sklearn.feature_extraction import DictVectorizer\n"
   ]
  },
  {
   "cell_type": "code",
   "execution_count": 17,
   "metadata": {},
   "outputs": [],
   "source": [
    "def dictvec():\n",
    "    \"\"\"\n",
    "        ====字典数据抽取\n",
    "        \n",
    "    return  : None\n",
    "    \"\"\"\n",
    "    dict = DictVectorizer(sparse=False)\n",
    "    \n",
    "    # 调用fit_transfrom\n",
    "    # one_hot编码\n",
    "    data = dict.fit_transform([\n",
    "                        {'city': 'beijing', 'temperature':100},\n",
    "                        {'city': 'shanghai','temperature': 60},\n",
    "                        {'city': 'shenzhen','temperature': 40}])\n",
    "    print(dict.get_feature_names())\n",
    "    print(data)\n",
    "    return None"
   ]
  },
  {
   "cell_type": "code",
   "execution_count": 15,
   "metadata": {},
   "outputs": [
    {
     "name": "stdout",
     "output_type": "stream",
     "text": [
      "['city=beijing', 'city=shanghai', 'city=shenzhen', 'temperature']\n",
      "[[  1.   0.   0. 100.]\n",
      " [  0.   1.   0.  60.]\n",
      " [  0.   0.   1.  40.]]\n"
     ]
    }
   ],
   "source": [
    "if __name__ == \"__main__\":\n",
    "    dictvec()"
   ]
  },
  {
   "cell_type": "code",
   "execution_count": null,
   "metadata": {},
   "outputs": [],
   "source": []
  }
 ],
 "metadata": {
  "kernelspec": {
   "display_name": "Python 3",
   "language": "python",
   "name": "python3"
  },
  "language_info": {
   "codemirror_mode": {
    "name": "ipython",
    "version": 3
   },
   "file_extension": ".py",
   "mimetype": "text/x-python",
   "name": "python",
   "nbconvert_exporter": "python",
   "pygments_lexer": "ipython3",
   "version": "3.7.4"
  }
 },
 "nbformat": 4,
 "nbformat_minor": 2
}
