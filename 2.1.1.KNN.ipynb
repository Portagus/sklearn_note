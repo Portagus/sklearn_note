{
 "cells": [
  {
   "cell_type": "code",
   "execution_count": null,
   "metadata": {},
   "outputs": [],
   "source": [
    "import pandas as pd\n",
    "import numpy as np\n",
    "from sklearn.model_selection import train_test_split\n",
    "from sklearn.neighbors import KNeighborsClassifier\n",
    "from sklearn.preprocessing import StandardScaler"
   ]
  },
  {
   "cell_type": "code",
   "execution_count": null,
   "metadata": {},
   "outputs": [],
   "source": [
    "def knncls():\n",
    "    \"\"\"\n",
    "    KNN预测用户标签\n",
    "    \"\"\"\n",
    "    # 读取数据\n",
    "    data = pd.read_csv(\"D:/Data/facebookdata/train.csv\")\n",
    "    print(data.head(10))\n",
    "    \n",
    "    # 处理数据\n",
    "    # 1.缩小数据, query输入字符串, 限定条件\n",
    "    data = data.query(\"x > 1.0 & x < 1.25 & y>2.5 & y < 2.75\") \n",
    "    # 处理时间, to_datatime, 里面是要转换的特征\n",
    "    time_value = pd.to_datetime(data['time'], unit='s')\n",
    "    # print(time_value.head(10))\n",
    "    \n",
    "    # 把日期格式转换为字典格式\n",
    "    time_value = pd.DatetimeIndex(time_value)\n",
    "    \n",
    "    # 构造一些特征\n",
    "    #data['day'] = time_value.day\n",
    "    #data['hour'] = time_value.hour\n",
    "    #data['weekday'] = time_value.weekday\n",
    "    \n",
    "    # loc会直接将数值放进去, 而不是复制进去\n",
    "    data.loc[:,'day'] = time_value.day\n",
    "    data.loc[:,'hour'] = time_value.hour\n",
    "    # data.loc[:,'weekday'] = time_value.weekday\n",
    "    \n",
    "    # 把时间戳删除 (pandas的列是1, sk是0)\n",
    "    data = data.drop(['time'],axis=1)\n",
    "    # print(data.head(5))\n",
    "    \n",
    "    # 把签到数量少于N个的删除\n",
    "    place_count = data.groupby('place_id').count()\n",
    "    # reset_index 将某个特征变成索引\n",
    "    tf = place_count[place_count.row_id>3].reset_index()\n",
    "    data = data[data['place_id'].isin(tf.place_id)]\n",
    "    # 去除特征的特征值和目标值\n",
    "    y = data['place_id']\n",
    "    x = data.drop(['place_id'], axis=1)\n",
    "    x = data.drop(['row_id'], axis=1)\n",
    "    \n",
    "    # 数据分割, train和test\n",
    "    x_train,x_test, y_train, y_test = train_test_split(x, y, test_size=0.25)\n",
    "    \n",
    "    \n",
    "    # 特征工程(标准化)\n",
    "    std = StandardScaler()\n",
    "    # 对train & test standard\n",
    "    x_train = std.fit_transform(x_train)\n",
    "    x_test =  std.fit_transform(x_test)\n",
    "    \n",
    "    # 进行算法\n",
    "    knn = KNeighborsClassifier(n_neighbors=5)\n",
    "    # 训练 \n",
    "    knn.fit(x_train, y_train)\n",
    "    # 得出结果\n",
    "    y_predict = knn.predict(x_test)\n",
    "    print(\"预测的目标签到位置:\", y_predict)\n",
    "    \n",
    "    # 得到准确率\n",
    "    print(\"准确率 : \", knn.score(x_test, y_test))\n",
    "    \n",
    "    return None"
   ]
  },
  {
   "cell_type": "code",
   "execution_count": null,
   "metadata": {},
   "outputs": [],
   "source": [
    "if __name__ == \"__main__\":\n",
    "    knncls()"
   ]
  },
  {
   "cell_type": "raw",
   "metadata": {},
   "source": [
    "总结 : \n",
    "    k值得影响 : k很小 :容易受异常点影响\n",
    "               k很大 : k数量波动\n",
    "    性能问题 : 时间复杂度高, 时间长\n",
    "    \n",
    "    优点 : 简单, 易理解, 无需训练\n",
    "    缺点 : 过分依赖k值得选择, 计算量大\n",
    "    \n",
    "    适合 : 适合小数据场景, (1k - 100k以内)"
   ]
  },
  {
   "cell_type": "code",
   "execution_count": null,
   "metadata": {},
   "outputs": [],
   "source": []
  },
  {
   "cell_type": "code",
   "execution_count": null,
   "metadata": {},
   "outputs": [],
   "source": []
  }
 ],
 "metadata": {
  "kernelspec": {
   "display_name": "Python 3",
   "language": "python",
   "name": "python3"
  },
  "language_info": {
   "codemirror_mode": {
    "name": "ipython",
    "version": 3
   },
   "file_extension": ".py",
   "mimetype": "text/x-python",
   "name": "python",
   "nbconvert_exporter": "python",
   "pygments_lexer": "ipython3",
   "version": "3.7.4"
  }
 },
 "nbformat": 4,
 "nbformat_minor": 2
}
