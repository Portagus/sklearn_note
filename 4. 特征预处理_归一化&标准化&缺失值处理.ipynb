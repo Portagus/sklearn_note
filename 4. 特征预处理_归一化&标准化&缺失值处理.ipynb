{
 "cells": [
  {
   "cell_type": "markdown",
   "metadata": {},
   "source": [
    "数值类型的 :\n",
    "        1. 归一化 *\n",
    "        2. 标准化 *\n",
    "         (1,2重点)\n",
    "        3. 缺失值\n",
    "类别型 : one-hot\n",
    "时间类型 : 时间的切分"
   ]
  },
  {
   "cell_type": "markdown",
   "metadata": {},
   "source": [
    "X' = (x - min)/(max - min)\n",
    "X'' = X' * (mx - mi) + mi\n",
    "   : 针对列处理, max为一列的最大的, min为最小的, mx与mi为指定区间默认mx = 1, mi = 0"
   ]
  },
  {
   "cell_type": "markdown",
   "metadata": {},
   "source": [
    "归一化的API : MinMaxScaler : 每个特征缩小的范围"
   ]
  },
  {
   "cell_type": "code",
   "execution_count": 58,
   "metadata": {},
   "outputs": [],
   "source": [
    "from sklearn.preprocessing import MinMaxScaler, StandardScaler\n",
    "from sklearn.impute import SimpleImputer\n",
    "import numpy as np"
   ]
  },
  {
   "cell_type": "code",
   "execution_count": 59,
   "metadata": {},
   "outputs": [],
   "source": [
    "def mm():\n",
    "    \"\"\"\n",
    "    归一化\n",
    "    return : None\n",
    "    \"\"\"\n",
    "    # feature_range : 范围\n",
    "    mm = MinMaxScaler(feature_range=(2, 3))\n",
    "    data = mm.fit_transform([[90,2,10,40],[60,4,15,45],[75,3,13,46]])\n",
    "    \n",
    "    print(data)\n",
    "    \n",
    "    return None"
   ]
  },
  {
   "cell_type": "code",
   "execution_count": 60,
   "metadata": {},
   "outputs": [
    {
     "name": "stdout",
     "output_type": "stream",
     "text": [
      "[[3.         2.         2.         2.        ]\n",
      " [2.         3.         3.         2.83333333]\n",
      " [2.5        2.5        2.6        3.        ]]\n"
     ]
    }
   ],
   "source": [
    "if __name__ == \"__main__\":\n",
    "    mm()"
   ]
  },
  {
   "cell_type": "raw",
   "metadata": {},
   "source": [
    "如果三个特征同等重要时: 进行归一化\n",
    "目的 : 一个特征对最终结果不会造成过大影响\n",
    "缺点 : \n",
    "    如果数据异常点过多 :异常点容易变成MAX / MIN的点, 这样就会有影响\n",
    "    而这个算法, 对max和min要求高, 所以鲁棒性差, 适合小数量精确数据"
   ]
  },
  {
   "cell_type": "markdown",
   "metadata": {},
   "source": [
    "标准化: \n",
    "    公式 : X = (x - mean)/σ # σ是标准差\n",
    "    ( 适大量的数据"
   ]
  },
  {
   "cell_type": "code",
   "execution_count": 61,
   "metadata": {},
   "outputs": [],
   "source": [
    "def stand():\n",
    "    \"\"\"\n",
    "    标准化缩放\n",
    "    \"\"\"\n",
    "    std = StandardScaler()\n",
    "    data = std.fit_transform([[1,-1,3],[2,4,2],[4,6,-1]])\n",
    "    print(data)\n",
    "    return None"
   ]
  },
  {
   "cell_type": "code",
   "execution_count": 62,
   "metadata": {},
   "outputs": [
    {
     "name": "stdout",
     "output_type": "stream",
     "text": [
      "[[-1.06904497 -1.35873244  0.98058068]\n",
      " [-0.26726124  0.33968311  0.39223227]\n",
      " [ 1.33630621  1.01904933 -1.37281295]]\n"
     ]
    }
   ],
   "source": [
    "if __name__ == \"__main__\":\n",
    "    stand()"
   ]
  },
  {
   "cell_type": "markdown",
   "metadata": {},
   "source": [
    "对缺失值的处理\n",
    "inputer(miss_values ='np.nan', strategy='mean',axis=0)\n",
    "NAN是float型"
   ]
  },
  {
   "cell_type": "code",
   "execution_count": 111,
   "metadata": {},
   "outputs": [],
   "source": [
    "def SI():\n",
    "    \"\"\"\n",
    "    缺失值处理\n",
    "    \"\"\"\n",
    "    SI = SimpleImputer(missing_values=np.nan, strategy='mean')\n",
    "    # fit_trasform 的输入需要是numpy\n",
    "    X = [[1,2], [np.nan, 3], [7,6]]\n",
    "    data = SI.fit_transform(X)\n",
    "    print(data)\n",
    "    return None"
   ]
  },
  {
   "cell_type": "code",
   "execution_count": 112,
   "metadata": {},
   "outputs": [
    {
     "name": "stdout",
     "output_type": "stream",
     "text": [
      "[[1. 2.]\n",
      " [4. 3.]\n",
      " [7. 6.]]\n"
     ]
    }
   ],
   "source": [
    "if __name__ == '__main__':\n",
    "    SI()"
   ]
  },
  {
   "cell_type": "code",
   "execution_count": null,
   "metadata": {},
   "outputs": [],
   "source": []
  }
 ],
 "metadata": {
  "kernelspec": {
   "display_name": "Python 3",
   "language": "python",
   "name": "python3"
  },
  "language_info": {
   "codemirror_mode": {
    "name": "ipython",
    "version": 3
   },
   "file_extension": ".py",
   "mimetype": "text/x-python",
   "name": "python",
   "nbconvert_exporter": "python",
   "pygments_lexer": "ipython3",
   "version": "3.7.4"
  }
 },
 "nbformat": 4,
 "nbformat_minor": 2
}
