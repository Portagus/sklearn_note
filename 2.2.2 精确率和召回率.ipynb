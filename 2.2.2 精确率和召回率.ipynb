{
 "cells": [
  {
   "cell_type": "raw",
   "metadata": {},
   "source": [
    "除了准确率, 还有精确率 & 召回率"
   ]
  },
  {
   "cell_type": "raw",
   "metadata": {},
   "source": [
    "精确率 : 预测结果为样本中真实为正例的比例 : 查的准\n",
    "\n",
    "召回率 : 真实为正例中预测结果为正例的比例 : 查的全"
   ]
  },
  {
   "cell_type": "raw",
   "metadata": {},
   "source": [
    " sklearn.metrics.classification_report()\n",
    "     参数 :  真实目标值\n",
    "            估计其的预测目标值\n",
    "            目标类别名称\n",
    "            \n",
    "     return : 每个类别的精确率与召回率"
   ]
  },
  {
   "cell_type": "raw",
   "metadata": {},
   "source": [
    "代码在上一节实现"
   ]
  }
 ],
 "metadata": {
  "kernelspec": {
   "display_name": "Python 3",
   "language": "python",
   "name": "python3"
  },
  "language_info": {
   "codemirror_mode": {
    "name": "ipython",
    "version": 3
   },
   "file_extension": ".py",
   "mimetype": "text/x-python",
   "name": "python",
   "nbconvert_exporter": "python",
   "pygments_lexer": "ipython3",
   "version": "3.7.4"
  }
 },
 "nbformat": 4,
 "nbformat_minor": 2
}
