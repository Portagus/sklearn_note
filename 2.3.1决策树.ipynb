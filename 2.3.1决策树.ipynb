{
 "cells": [
  {
   "cell_type": "code",
   "execution_count": 33,
   "metadata": {},
   "outputs": [],
   "source": [
    "import pandas as pd\n",
    "from sklearn.feature_extraction import DictVectorizer\n",
    "from sklearn.model_selection import train_test_split \n",
    "from sklearn.tree import DecisionTreeClassifier, export_graphviz"
   ]
  },
  {
   "cell_type": "raw",
   "metadata": {},
   "source": [
    "class.sklearn.tree.DecisionTreeClassifier()\n",
    "    param : \n",
    "            criterion : 默认是基尼系数\n",
    "            max_depth : 深度\n",
    "            random_state = 随机数种子\n",
    "            \n",
    " sklearn.tree.export_graphviz() :可视化树(但是是二进制的)\n",
    "     param : estimator : 估计器\n",
    "             out_file\n",
    "             feature_names"
   ]
  },
  {
   "cell_type": "code",
   "execution_count": 34,
   "metadata": {},
   "outputs": [],
   "source": [
    "def decision():\n",
    "    \"\"\"\n",
    "    决策树\n",
    "    \"\"\"\n",
    "    # 获取数据\n",
    "    titan = pd.read_csv(\"http://biostat.mc.vanderbilt.edu/wiki/pub/Main/DataSets/titanic.txt\")\n",
    "    \n",
    "    # 处理数据, 找出特征值和目标值\n",
    "    x = titan[['pclass', 'age','sex']]\n",
    "    y = titan['survived']\n",
    "    \n",
    "    # 缺失值处理\n",
    "    x['age'].fillna(x['age'].mean(), inplace=True)\n",
    "    \n",
    "    #print(\"transform 之前 : \\n\", x)\n",
    "    \n",
    "    # 分割数据\n",
    "    x_train,x_test, y_train, y_test = train_test_split(x, y, test_size=0.25)\n",
    "    \n",
    "    # 进行处理(特征工程) 当特征是类别->one-hot编码\n",
    "    dict = DictVectorizer(sparse=False)\n",
    "    # 转换成字典, param : 一行转为一个字典\n",
    "    x_train = dict.fit_transform(x_train.to_dict(orient='records'))\n",
    "    #print(dict.get_feature_names())\n",
    "    x_test = dict.transform(x_test.to_dict(orient='records'))\n",
    "    #print(x_train)\n",
    "    \n",
    "    # 用决策树计算\n",
    "    dec = DecisionTreeClassifier()\n",
    "    dec.fit(x_train, y_train)\n",
    "    \n",
    "    # 到处决策树的结构\n",
    "    export_graphviz(dec, out_file=\"./tree.dot\", feature_names=['age','pclass=1st', 'pclass=2nd','pclass=3rd','女性', '男性'])\n",
    "    \n",
    "    # 预测准确率\n",
    "    print(\"ACCUR : \", dec.score(x_test, y_test))\n",
    "    \n",
    "    return None"
   ]
  },
  {
   "cell_type": "code",
   "execution_count": 35,
   "metadata": {},
   "outputs": [
    {
     "name": "stdout",
     "output_type": "stream",
     "text": [
      "ACCUR :  0.7811550151975684\n"
     ]
    },
    {
     "name": "stderr",
     "output_type": "stream",
     "text": [
      "C:\\ProgramData\\Anaconda3\\lib\\site-packages\\pandas\\core\\series.py:4523: SettingWithCopyWarning: \n",
      "A value is trying to be set on a copy of a slice from a DataFrame\n",
      "\n",
      "See the caveats in the documentation: https://pandas.pydata.org/pandas-docs/stable/user_guide/indexing.html#returning-a-view-versus-a-copy\n",
      "  downcast=downcast,\n"
     ]
    }
   ],
   "source": [
    "if __name__ == \"__main__\":\n",
    "    decision()"
   ]
  },
  {
   "cell_type": "raw",
   "metadata": {},
   "source": [
    "优点 : \n",
    "    简单, 数据少\n",
    "    \n",
    "缺点 :\n",
    "    不能过复杂的树(过拟合\n",
    "    \n",
    "改进 : \n",
    "        cart算法\n",
    "        随机森林"
   ]
  },
  {
   "cell_type": "code",
   "execution_count": null,
   "metadata": {},
   "outputs": [],
   "source": []
  },
  {
   "cell_type": "code",
   "execution_count": null,
   "metadata": {},
   "outputs": [],
   "source": []
  }
 ],
 "metadata": {
  "kernelspec": {
   "display_name": "Python 3",
   "language": "python",
   "name": "python3"
  },
  "language_info": {
   "codemirror_mode": {
    "name": "ipython",
    "version": 3
   },
   "file_extension": ".py",
   "mimetype": "text/x-python",
   "name": "python",
   "nbconvert_exporter": "python",
   "pygments_lexer": "ipython3",
   "version": "3.7.4"
  }
 },
 "nbformat": 4,
 "nbformat_minor": 2
}
